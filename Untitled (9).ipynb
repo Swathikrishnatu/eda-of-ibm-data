{
 "cells": [
  {
   "cell_type": "markdown",
   "id": "3b062497",
   "metadata": {},
   "source": [
    "# IBM HR Attrition Dataset"
   ]
  },
  {
   "cell_type": "markdown",
   "id": "32d3fb16",
   "metadata": {},
   "source": [
    "Attrition: When an employee leaves the company due to resignation or retirement, then it is called Attrition. Employees leave the company for personal and professional reasons like retirement, lower growth potential, lower work satisfaction, lower pay rate, bad work environment, etc. Attrition is part and parcel of any business. Attrition is a cause of concern when it crosses a limit.\n",
    "\n",
    "The attrition rate, also known as churn rate, can be defined as the rate at which employees leave an organization from a specific group over a particular period of time. "
   ]
  },
  {
   "cell_type": "markdown",
   "id": "531c5111",
   "metadata": {},
   "source": [
    "The dataset for the analysis is taken from Kaggle. To get insights about what factors contribute to employee attrition, we use Python and libraries like pandas, matplotlib, and seaborn. In this blog, we mostly talk about absolute and percentage values.\n",
    "\n"
   ]
  },
  {
   "cell_type": "markdown",
   "id": "f3786744",
   "metadata": {},
   "source": [
    "# Importing Libraries"
   ]
  },
  {
   "cell_type": "code",
   "execution_count": 1,
   "id": "3b334440",
   "metadata": {},
   "outputs": [],
   "source": [
    "import pandas as pd\n",
    "import pandas as pd\n",
    "import numpy as np\n",
    "import matplotlib.pyplot as plt\n",
    "import seaborn as sns"
   ]
  },
  {
   "cell_type": "code",
   "execution_count": null,
   "id": "377abf2e",
   "metadata": {},
   "outputs": [],
   "source": []
  },
  {
   "cell_type": "code",
   "execution_count": null,
   "id": "67012266",
   "metadata": {},
   "outputs": [],
   "source": []
  },
  {
   "cell_type": "markdown",
   "id": "df045279",
   "metadata": {},
   "source": [
    "# Loading Data and displaying Data"
   ]
  },
  {
   "cell_type": "code",
   "execution_count": 6,
   "id": "521f9da0",
   "metadata": {},
   "outputs": [
    {
     "name": "stderr",
     "output_type": "stream",
     "text": [
      "C:\\Users\\abhil\\AppData\\Local\\Temp\\ipykernel_15092\\3851277706.py:1: DtypeWarning: Columns (5,8,10) have mixed types. Specify dtype option on import or set low_memory=False.\n",
      "  data=pd.read_csv(\"IBM HR Data new.csv\")\n"
     ]
    },
    {
     "data": {
      "text/html": [
       "<div>\n",
       "<style scoped>\n",
       "    .dataframe tbody tr th:only-of-type {\n",
       "        vertical-align: middle;\n",
       "    }\n",
       "\n",
       "    .dataframe tbody tr th {\n",
       "        vertical-align: top;\n",
       "    }\n",
       "\n",
       "    .dataframe thead th {\n",
       "        text-align: right;\n",
       "    }\n",
       "</style>\n",
       "<table border=\"1\" class=\"dataframe\">\n",
       "  <thead>\n",
       "    <tr style=\"text-align: right;\">\n",
       "      <th></th>\n",
       "      <th>Age</th>\n",
       "      <th>Attrition</th>\n",
       "      <th>BusinessTravel</th>\n",
       "      <th>DailyRate</th>\n",
       "      <th>Department</th>\n",
       "      <th>DistanceFromHome</th>\n",
       "      <th>Education</th>\n",
       "      <th>EducationField</th>\n",
       "      <th>EmployeeCount</th>\n",
       "      <th>EmployeeNumber</th>\n",
       "      <th>...</th>\n",
       "      <th>StandardHours</th>\n",
       "      <th>StockOptionLevel</th>\n",
       "      <th>TotalWorkingYears</th>\n",
       "      <th>TrainingTimesLastYear</th>\n",
       "      <th>WorkLifeBalance</th>\n",
       "      <th>YearsAtCompany</th>\n",
       "      <th>YearsInCurrentRole</th>\n",
       "      <th>YearsSinceLastPromotion</th>\n",
       "      <th>YearsWithCurrManager</th>\n",
       "      <th>Employee Source</th>\n",
       "    </tr>\n",
       "  </thead>\n",
       "  <tbody>\n",
       "    <tr>\n",
       "      <th>0</th>\n",
       "      <td>41.0</td>\n",
       "      <td>Voluntary Resignation</td>\n",
       "      <td>Travel_Rarely</td>\n",
       "      <td>1102.0</td>\n",
       "      <td>Sales</td>\n",
       "      <td>1</td>\n",
       "      <td>2.0</td>\n",
       "      <td>Life Sciences</td>\n",
       "      <td>1</td>\n",
       "      <td>1</td>\n",
       "      <td>...</td>\n",
       "      <td>80.0</td>\n",
       "      <td>0.0</td>\n",
       "      <td>8.0</td>\n",
       "      <td>0.0</td>\n",
       "      <td>1.0</td>\n",
       "      <td>6.0</td>\n",
       "      <td>4.0</td>\n",
       "      <td>0.0</td>\n",
       "      <td>5.0</td>\n",
       "      <td>Referral</td>\n",
       "    </tr>\n",
       "    <tr>\n",
       "      <th>1</th>\n",
       "      <td>41.0</td>\n",
       "      <td>Voluntary Resignation</td>\n",
       "      <td>Travel_Rarely</td>\n",
       "      <td>1102.0</td>\n",
       "      <td>Sales</td>\n",
       "      <td>1</td>\n",
       "      <td>2.0</td>\n",
       "      <td>Life Sciences</td>\n",
       "      <td>1</td>\n",
       "      <td>1</td>\n",
       "      <td>...</td>\n",
       "      <td>80.0</td>\n",
       "      <td>0.0</td>\n",
       "      <td>8.0</td>\n",
       "      <td>0.0</td>\n",
       "      <td>1.0</td>\n",
       "      <td>6.0</td>\n",
       "      <td>4.0</td>\n",
       "      <td>0.0</td>\n",
       "      <td>5.0</td>\n",
       "      <td>Referral</td>\n",
       "    </tr>\n",
       "    <tr>\n",
       "      <th>2</th>\n",
       "      <td>41.0</td>\n",
       "      <td>Voluntary Resignation</td>\n",
       "      <td>Travel_Rarely</td>\n",
       "      <td>1102.0</td>\n",
       "      <td>Sales</td>\n",
       "      <td>1</td>\n",
       "      <td>2.0</td>\n",
       "      <td>Life Sciences</td>\n",
       "      <td>1</td>\n",
       "      <td>7</td>\n",
       "      <td>...</td>\n",
       "      <td>80.0</td>\n",
       "      <td>0.0</td>\n",
       "      <td>8.0</td>\n",
       "      <td>0.0</td>\n",
       "      <td>1.0</td>\n",
       "      <td>6.0</td>\n",
       "      <td>4.0</td>\n",
       "      <td>0.0</td>\n",
       "      <td>5.0</td>\n",
       "      <td>Referral</td>\n",
       "    </tr>\n",
       "    <tr>\n",
       "      <th>3</th>\n",
       "      <td>41.0</td>\n",
       "      <td>Voluntary Resignation</td>\n",
       "      <td>Travel_Rarely</td>\n",
       "      <td>1102.0</td>\n",
       "      <td>Sales</td>\n",
       "      <td>1</td>\n",
       "      <td>2.0</td>\n",
       "      <td>Life Sciences</td>\n",
       "      <td>1</td>\n",
       "      <td>8</td>\n",
       "      <td>...</td>\n",
       "      <td>80.0</td>\n",
       "      <td>0.0</td>\n",
       "      <td>8.0</td>\n",
       "      <td>0.0</td>\n",
       "      <td>1.0</td>\n",
       "      <td>6.0</td>\n",
       "      <td>4.0</td>\n",
       "      <td>0.0</td>\n",
       "      <td>5.0</td>\n",
       "      <td>Referral</td>\n",
       "    </tr>\n",
       "    <tr>\n",
       "      <th>4</th>\n",
       "      <td>41.0</td>\n",
       "      <td>Voluntary Resignation</td>\n",
       "      <td>Travel_Rarely</td>\n",
       "      <td>1102.0</td>\n",
       "      <td>Sales</td>\n",
       "      <td>1</td>\n",
       "      <td>2.0</td>\n",
       "      <td>Life Sciences</td>\n",
       "      <td>1</td>\n",
       "      <td>9</td>\n",
       "      <td>...</td>\n",
       "      <td>80.0</td>\n",
       "      <td>0.0</td>\n",
       "      <td>8.0</td>\n",
       "      <td>0.0</td>\n",
       "      <td>1.0</td>\n",
       "      <td>6.0</td>\n",
       "      <td>4.0</td>\n",
       "      <td>0.0</td>\n",
       "      <td>5.0</td>\n",
       "      <td>Referral</td>\n",
       "    </tr>\n",
       "    <tr>\n",
       "      <th>...</th>\n",
       "      <td>...</td>\n",
       "      <td>...</td>\n",
       "      <td>...</td>\n",
       "      <td>...</td>\n",
       "      <td>...</td>\n",
       "      <td>...</td>\n",
       "      <td>...</td>\n",
       "      <td>...</td>\n",
       "      <td>...</td>\n",
       "      <td>...</td>\n",
       "      <td>...</td>\n",
       "      <td>...</td>\n",
       "      <td>...</td>\n",
       "      <td>...</td>\n",
       "      <td>...</td>\n",
       "      <td>...</td>\n",
       "      <td>...</td>\n",
       "      <td>...</td>\n",
       "      <td>...</td>\n",
       "      <td>...</td>\n",
       "      <td>...</td>\n",
       "    </tr>\n",
       "    <tr>\n",
       "      <th>23431</th>\n",
       "      <td>60.0</td>\n",
       "      <td>Current employee</td>\n",
       "      <td>Travel_Rarely</td>\n",
       "      <td>370.0</td>\n",
       "      <td>Research &amp; Development</td>\n",
       "      <td>1.0</td>\n",
       "      <td>4.0</td>\n",
       "      <td>Medical</td>\n",
       "      <td>1</td>\n",
       "      <td>19344</td>\n",
       "      <td>...</td>\n",
       "      <td>80.0</td>\n",
       "      <td>1.0</td>\n",
       "      <td>20.0</td>\n",
       "      <td>2.0</td>\n",
       "      <td>3.0</td>\n",
       "      <td>20.0</td>\n",
       "      <td>7.0</td>\n",
       "      <td>2.0</td>\n",
       "      <td>13.0</td>\n",
       "      <td>Company Website</td>\n",
       "    </tr>\n",
       "    <tr>\n",
       "      <th>23432</th>\n",
       "      <td>60.0</td>\n",
       "      <td>Current employee</td>\n",
       "      <td>Travel_Rarely</td>\n",
       "      <td>370.0</td>\n",
       "      <td>Research &amp; Development</td>\n",
       "      <td>1.0</td>\n",
       "      <td>4.0</td>\n",
       "      <td>Life Sciences</td>\n",
       "      <td>1</td>\n",
       "      <td>19345</td>\n",
       "      <td>...</td>\n",
       "      <td>80.0</td>\n",
       "      <td>1.0</td>\n",
       "      <td>19.0</td>\n",
       "      <td>2.0</td>\n",
       "      <td>4.0</td>\n",
       "      <td>1.0</td>\n",
       "      <td>0.0</td>\n",
       "      <td>0.0</td>\n",
       "      <td>0.0</td>\n",
       "      <td>Company Website</td>\n",
       "    </tr>\n",
       "    <tr>\n",
       "      <th>23433</th>\n",
       "      <td>NaN</td>\n",
       "      <td>Voluntary Resignation</td>\n",
       "      <td>Travel_Frequently</td>\n",
       "      <td>1009.0</td>\n",
       "      <td>Research &amp; Development</td>\n",
       "      <td>1.0</td>\n",
       "      <td>3.0</td>\n",
       "      <td>Life Sciences</td>\n",
       "      <td>1</td>\n",
       "      <td>16794</td>\n",
       "      <td>...</td>\n",
       "      <td>80.0</td>\n",
       "      <td>2.0</td>\n",
       "      <td>4.0</td>\n",
       "      <td>2.0</td>\n",
       "      <td>2.0</td>\n",
       "      <td>2.0</td>\n",
       "      <td>1.0</td>\n",
       "      <td>2.0</td>\n",
       "      <td>2.0</td>\n",
       "      <td>Adzuna</td>\n",
       "    </tr>\n",
       "    <tr>\n",
       "      <th>23434</th>\n",
       "      <td>NaN</td>\n",
       "      <td>Current employee</td>\n",
       "      <td>Travel_Rarely</td>\n",
       "      <td>1354.0</td>\n",
       "      <td>Research &amp; Development</td>\n",
       "      <td>5.0</td>\n",
       "      <td>3.0</td>\n",
       "      <td>Medical</td>\n",
       "      <td>1</td>\n",
       "      <td>1956</td>\n",
       "      <td>...</td>\n",
       "      <td>80.0</td>\n",
       "      <td>0.0</td>\n",
       "      <td>14.0</td>\n",
       "      <td>6.0</td>\n",
       "      <td>3.0</td>\n",
       "      <td>11.0</td>\n",
       "      <td>10.0</td>\n",
       "      <td>5.0</td>\n",
       "      <td>8.0</td>\n",
       "      <td>Indeed</td>\n",
       "    </tr>\n",
       "    <tr>\n",
       "      <th>23435</th>\n",
       "      <td>NaN</td>\n",
       "      <td>Current employee</td>\n",
       "      <td>Non-Travel</td>\n",
       "      <td>1142.0</td>\n",
       "      <td>Research &amp; Development</td>\n",
       "      <td>8.0</td>\n",
       "      <td>2.0</td>\n",
       "      <td>Life Sciences</td>\n",
       "      <td>1</td>\n",
       "      <td>17587</td>\n",
       "      <td>...</td>\n",
       "      <td>80.0</td>\n",
       "      <td>0.0</td>\n",
       "      <td>8.0</td>\n",
       "      <td>2.0</td>\n",
       "      <td>3.0</td>\n",
       "      <td>2.0</td>\n",
       "      <td>2.0</td>\n",
       "      <td>2.0</td>\n",
       "      <td>2.0</td>\n",
       "      <td>Recruit.net</td>\n",
       "    </tr>\n",
       "  </tbody>\n",
       "</table>\n",
       "<p>23436 rows × 37 columns</p>\n",
       "</div>"
      ],
      "text/plain": [
       "        Age              Attrition     BusinessTravel  DailyRate  \\\n",
       "0      41.0  Voluntary Resignation      Travel_Rarely     1102.0   \n",
       "1      41.0  Voluntary Resignation      Travel_Rarely     1102.0   \n",
       "2      41.0  Voluntary Resignation      Travel_Rarely     1102.0   \n",
       "3      41.0  Voluntary Resignation      Travel_Rarely     1102.0   \n",
       "4      41.0  Voluntary Resignation      Travel_Rarely     1102.0   \n",
       "...     ...                    ...                ...        ...   \n",
       "23431  60.0       Current employee      Travel_Rarely      370.0   \n",
       "23432  60.0       Current employee      Travel_Rarely      370.0   \n",
       "23433   NaN  Voluntary Resignation  Travel_Frequently     1009.0   \n",
       "23434   NaN       Current employee      Travel_Rarely     1354.0   \n",
       "23435   NaN       Current employee         Non-Travel     1142.0   \n",
       "\n",
       "                   Department DistanceFromHome  Education EducationField  \\\n",
       "0                       Sales                1        2.0  Life Sciences   \n",
       "1                       Sales                1        2.0  Life Sciences   \n",
       "2                       Sales                1        2.0  Life Sciences   \n",
       "3                       Sales                1        2.0  Life Sciences   \n",
       "4                       Sales                1        2.0  Life Sciences   \n",
       "...                       ...              ...        ...            ...   \n",
       "23431  Research & Development              1.0        4.0        Medical   \n",
       "23432  Research & Development              1.0        4.0  Life Sciences   \n",
       "23433  Research & Development              1.0        3.0  Life Sciences   \n",
       "23434  Research & Development              5.0        3.0        Medical   \n",
       "23435  Research & Development              8.0        2.0  Life Sciences   \n",
       "\n",
       "      EmployeeCount EmployeeNumber  ... StandardHours  StockOptionLevel  \\\n",
       "0                 1              1  ...          80.0               0.0   \n",
       "1                 1              1  ...          80.0               0.0   \n",
       "2                 1              7  ...          80.0               0.0   \n",
       "3                 1              8  ...          80.0               0.0   \n",
       "4                 1              9  ...          80.0               0.0   \n",
       "...             ...            ...  ...           ...               ...   \n",
       "23431             1          19344  ...          80.0               1.0   \n",
       "23432             1          19345  ...          80.0               1.0   \n",
       "23433             1          16794  ...          80.0               2.0   \n",
       "23434             1           1956  ...          80.0               0.0   \n",
       "23435             1          17587  ...          80.0               0.0   \n",
       "\n",
       "      TotalWorkingYears TrainingTimesLastYear  WorkLifeBalance  \\\n",
       "0                   8.0                   0.0              1.0   \n",
       "1                   8.0                   0.0              1.0   \n",
       "2                   8.0                   0.0              1.0   \n",
       "3                   8.0                   0.0              1.0   \n",
       "4                   8.0                   0.0              1.0   \n",
       "...                 ...                   ...              ...   \n",
       "23431              20.0                   2.0              3.0   \n",
       "23432              19.0                   2.0              4.0   \n",
       "23433               4.0                   2.0              2.0   \n",
       "23434              14.0                   6.0              3.0   \n",
       "23435               8.0                   2.0              3.0   \n",
       "\n",
       "       YearsAtCompany YearsInCurrentRole YearsSinceLastPromotion  \\\n",
       "0                 6.0                4.0                     0.0   \n",
       "1                 6.0                4.0                     0.0   \n",
       "2                 6.0                4.0                     0.0   \n",
       "3                 6.0                4.0                     0.0   \n",
       "4                 6.0                4.0                     0.0   \n",
       "...               ...                ...                     ...   \n",
       "23431            20.0                7.0                     2.0   \n",
       "23432             1.0                0.0                     0.0   \n",
       "23433             2.0                1.0                     2.0   \n",
       "23434            11.0               10.0                     5.0   \n",
       "23435             2.0                2.0                     2.0   \n",
       "\n",
       "      YearsWithCurrManager  Employee Source  \n",
       "0                      5.0         Referral  \n",
       "1                      5.0         Referral  \n",
       "2                      5.0         Referral  \n",
       "3                      5.0         Referral  \n",
       "4                      5.0         Referral  \n",
       "...                    ...              ...  \n",
       "23431                 13.0  Company Website  \n",
       "23432                  0.0  Company Website  \n",
       "23433                  2.0           Adzuna  \n",
       "23434                  8.0           Indeed  \n",
       "23435                  2.0      Recruit.net  \n",
       "\n",
       "[23436 rows x 37 columns]"
      ]
     },
     "execution_count": 6,
     "metadata": {},
     "output_type": "execute_result"
    }
   ],
   "source": [
    "data=pd.read_csv(\"IBM HR Data new.csv\")\n",
    "data"
   ]
  },
  {
   "cell_type": "markdown",
   "id": "be01fb3a",
   "metadata": {},
   "source": [
    "# Moving “Attrition” column to last"
   ]
  },
  {
   "cell_type": "code",
   "execution_count": 7,
   "id": "79d86c49",
   "metadata": {},
   "outputs": [],
   "source": [
    "data[\"attrition\"] = data[\"Attrition\"]\n",
    "data.drop(columns = [\"Attrition\"], inplace = True)\n"
   ]
  },
  {
   "cell_type": "code",
   "execution_count": 8,
   "id": "d0ca09a6",
   "metadata": {},
   "outputs": [
    {
     "data": {
      "text/html": [
       "<div>\n",
       "<style scoped>\n",
       "    .dataframe tbody tr th:only-of-type {\n",
       "        vertical-align: middle;\n",
       "    }\n",
       "\n",
       "    .dataframe tbody tr th {\n",
       "        vertical-align: top;\n",
       "    }\n",
       "\n",
       "    .dataframe thead th {\n",
       "        text-align: right;\n",
       "    }\n",
       "</style>\n",
       "<table border=\"1\" class=\"dataframe\">\n",
       "  <thead>\n",
       "    <tr style=\"text-align: right;\">\n",
       "      <th></th>\n",
       "      <th>Age</th>\n",
       "      <th>BusinessTravel</th>\n",
       "      <th>DailyRate</th>\n",
       "      <th>Department</th>\n",
       "      <th>DistanceFromHome</th>\n",
       "      <th>Education</th>\n",
       "      <th>EducationField</th>\n",
       "      <th>EmployeeCount</th>\n",
       "      <th>EmployeeNumber</th>\n",
       "      <th>Application ID</th>\n",
       "      <th>...</th>\n",
       "      <th>StockOptionLevel</th>\n",
       "      <th>TotalWorkingYears</th>\n",
       "      <th>TrainingTimesLastYear</th>\n",
       "      <th>WorkLifeBalance</th>\n",
       "      <th>YearsAtCompany</th>\n",
       "      <th>YearsInCurrentRole</th>\n",
       "      <th>YearsSinceLastPromotion</th>\n",
       "      <th>YearsWithCurrManager</th>\n",
       "      <th>Employee Source</th>\n",
       "      <th>attrition</th>\n",
       "    </tr>\n",
       "  </thead>\n",
       "  <tbody>\n",
       "    <tr>\n",
       "      <th>0</th>\n",
       "      <td>41.0</td>\n",
       "      <td>Travel_Rarely</td>\n",
       "      <td>1102.0</td>\n",
       "      <td>Sales</td>\n",
       "      <td>1</td>\n",
       "      <td>2.0</td>\n",
       "      <td>Life Sciences</td>\n",
       "      <td>1</td>\n",
       "      <td>1</td>\n",
       "      <td>123456</td>\n",
       "      <td>...</td>\n",
       "      <td>0.0</td>\n",
       "      <td>8.0</td>\n",
       "      <td>0.0</td>\n",
       "      <td>1.0</td>\n",
       "      <td>6.0</td>\n",
       "      <td>4.0</td>\n",
       "      <td>0.0</td>\n",
       "      <td>5.0</td>\n",
       "      <td>Referral</td>\n",
       "      <td>Voluntary Resignation</td>\n",
       "    </tr>\n",
       "    <tr>\n",
       "      <th>1</th>\n",
       "      <td>41.0</td>\n",
       "      <td>Travel_Rarely</td>\n",
       "      <td>1102.0</td>\n",
       "      <td>Sales</td>\n",
       "      <td>1</td>\n",
       "      <td>2.0</td>\n",
       "      <td>Life Sciences</td>\n",
       "      <td>1</td>\n",
       "      <td>1</td>\n",
       "      <td>123458</td>\n",
       "      <td>...</td>\n",
       "      <td>0.0</td>\n",
       "      <td>8.0</td>\n",
       "      <td>0.0</td>\n",
       "      <td>1.0</td>\n",
       "      <td>6.0</td>\n",
       "      <td>4.0</td>\n",
       "      <td>0.0</td>\n",
       "      <td>5.0</td>\n",
       "      <td>Referral</td>\n",
       "      <td>Voluntary Resignation</td>\n",
       "    </tr>\n",
       "    <tr>\n",
       "      <th>2</th>\n",
       "      <td>41.0</td>\n",
       "      <td>Travel_Rarely</td>\n",
       "      <td>1102.0</td>\n",
       "      <td>Sales</td>\n",
       "      <td>1</td>\n",
       "      <td>2.0</td>\n",
       "      <td>Life Sciences</td>\n",
       "      <td>1</td>\n",
       "      <td>7</td>\n",
       "      <td>123462</td>\n",
       "      <td>...</td>\n",
       "      <td>0.0</td>\n",
       "      <td>8.0</td>\n",
       "      <td>0.0</td>\n",
       "      <td>1.0</td>\n",
       "      <td>6.0</td>\n",
       "      <td>4.0</td>\n",
       "      <td>0.0</td>\n",
       "      <td>5.0</td>\n",
       "      <td>Referral</td>\n",
       "      <td>Voluntary Resignation</td>\n",
       "    </tr>\n",
       "    <tr>\n",
       "      <th>3</th>\n",
       "      <td>41.0</td>\n",
       "      <td>Travel_Rarely</td>\n",
       "      <td>1102.0</td>\n",
       "      <td>Sales</td>\n",
       "      <td>1</td>\n",
       "      <td>2.0</td>\n",
       "      <td>Life Sciences</td>\n",
       "      <td>1</td>\n",
       "      <td>8</td>\n",
       "      <td>123463</td>\n",
       "      <td>...</td>\n",
       "      <td>0.0</td>\n",
       "      <td>8.0</td>\n",
       "      <td>0.0</td>\n",
       "      <td>1.0</td>\n",
       "      <td>6.0</td>\n",
       "      <td>4.0</td>\n",
       "      <td>0.0</td>\n",
       "      <td>5.0</td>\n",
       "      <td>Referral</td>\n",
       "      <td>Voluntary Resignation</td>\n",
       "    </tr>\n",
       "    <tr>\n",
       "      <th>4</th>\n",
       "      <td>41.0</td>\n",
       "      <td>Travel_Rarely</td>\n",
       "      <td>1102.0</td>\n",
       "      <td>Sales</td>\n",
       "      <td>1</td>\n",
       "      <td>2.0</td>\n",
       "      <td>Life Sciences</td>\n",
       "      <td>1</td>\n",
       "      <td>9</td>\n",
       "      <td>123464</td>\n",
       "      <td>...</td>\n",
       "      <td>0.0</td>\n",
       "      <td>8.0</td>\n",
       "      <td>0.0</td>\n",
       "      <td>1.0</td>\n",
       "      <td>6.0</td>\n",
       "      <td>4.0</td>\n",
       "      <td>0.0</td>\n",
       "      <td>5.0</td>\n",
       "      <td>Referral</td>\n",
       "      <td>Voluntary Resignation</td>\n",
       "    </tr>\n",
       "  </tbody>\n",
       "</table>\n",
       "<p>5 rows × 37 columns</p>\n",
       "</div>"
      ],
      "text/plain": [
       "    Age BusinessTravel  DailyRate Department DistanceFromHome  Education  \\\n",
       "0  41.0  Travel_Rarely     1102.0      Sales                1        2.0   \n",
       "1  41.0  Travel_Rarely     1102.0      Sales                1        2.0   \n",
       "2  41.0  Travel_Rarely     1102.0      Sales                1        2.0   \n",
       "3  41.0  Travel_Rarely     1102.0      Sales                1        2.0   \n",
       "4  41.0  Travel_Rarely     1102.0      Sales                1        2.0   \n",
       "\n",
       "  EducationField EmployeeCount EmployeeNumber Application ID  ...  \\\n",
       "0  Life Sciences             1              1         123456  ...   \n",
       "1  Life Sciences             1              1         123458  ...   \n",
       "2  Life Sciences             1              7         123462  ...   \n",
       "3  Life Sciences             1              8         123463  ...   \n",
       "4  Life Sciences             1              9         123464  ...   \n",
       "\n",
       "   StockOptionLevel TotalWorkingYears TrainingTimesLastYear  WorkLifeBalance  \\\n",
       "0               0.0               8.0                   0.0              1.0   \n",
       "1               0.0               8.0                   0.0              1.0   \n",
       "2               0.0               8.0                   0.0              1.0   \n",
       "3               0.0               8.0                   0.0              1.0   \n",
       "4               0.0               8.0                   0.0              1.0   \n",
       "\n",
       "   YearsAtCompany YearsInCurrentRole YearsSinceLastPromotion  \\\n",
       "0             6.0                4.0                     0.0   \n",
       "1             6.0                4.0                     0.0   \n",
       "2             6.0                4.0                     0.0   \n",
       "3             6.0                4.0                     0.0   \n",
       "4             6.0                4.0                     0.0   \n",
       "\n",
       "  YearsWithCurrManager Employee Source              attrition  \n",
       "0                  5.0        Referral  Voluntary Resignation  \n",
       "1                  5.0        Referral  Voluntary Resignation  \n",
       "2                  5.0        Referral  Voluntary Resignation  \n",
       "3                  5.0        Referral  Voluntary Resignation  \n",
       "4                  5.0        Referral  Voluntary Resignation  \n",
       "\n",
       "[5 rows x 37 columns]"
      ]
     },
     "execution_count": 8,
     "metadata": {},
     "output_type": "execute_result"
    }
   ],
   "source": [
    "data.head()"
   ]
  },
  {
   "cell_type": "code",
   "execution_count": 9,
   "id": "c539e670",
   "metadata": {},
   "outputs": [
    {
     "data": {
      "text/plain": [
       "(23436, 37)"
      ]
     },
     "execution_count": 9,
     "metadata": {},
     "output_type": "execute_result"
    }
   ],
   "source": [
    "data.shape"
   ]
  },
  {
   "cell_type": "code",
   "execution_count": 10,
   "id": "d7121dca",
   "metadata": {},
   "outputs": [
    {
     "data": {
      "text/plain": [
       "Index(['Age', 'BusinessTravel', 'DailyRate', 'Department', 'DistanceFromHome',\n",
       "       'Education', 'EducationField', 'EmployeeCount', 'EmployeeNumber',\n",
       "       'Application ID', 'EnvironmentSatisfaction', 'Gender', 'HourlyRate',\n",
       "       'JobInvolvement', 'JobLevel', 'JobRole', 'JobSatisfaction',\n",
       "       'MaritalStatus', 'MonthlyIncome', 'MonthlyRate', 'NumCompaniesWorked',\n",
       "       'Over18', 'OverTime', 'PercentSalaryHike', 'PerformanceRating',\n",
       "       'RelationshipSatisfaction', 'StandardHours', 'StockOptionLevel',\n",
       "       'TotalWorkingYears', 'TrainingTimesLastYear', 'WorkLifeBalance',\n",
       "       'YearsAtCompany', 'YearsInCurrentRole', 'YearsSinceLastPromotion',\n",
       "       'YearsWithCurrManager', 'Employee Source', 'attrition'],\n",
       "      dtype='object')"
      ]
     },
     "execution_count": 10,
     "metadata": {},
     "output_type": "execute_result"
    }
   ],
   "source": [
    "data.columns"
   ]
  },
  {
   "cell_type": "code",
   "execution_count": 11,
   "id": "c97796fb",
   "metadata": {},
   "outputs": [
    {
     "name": "stdout",
     "output_type": "stream",
     "text": [
      "<class 'pandas.core.frame.DataFrame'>\n",
      "RangeIndex: 23436 entries, 0 to 23435\n",
      "Data columns (total 37 columns):\n",
      " #   Column                    Non-Null Count  Dtype  \n",
      "---  ------                    --------------  -----  \n",
      " 0   Age                       23433 non-null  float64\n",
      " 1   BusinessTravel            23428 non-null  object \n",
      " 2   DailyRate                 23424 non-null  float64\n",
      " 3   Department                23425 non-null  object \n",
      " 4   DistanceFromHome          23427 non-null  object \n",
      " 5   Education                 23424 non-null  float64\n",
      " 6   EducationField            23427 non-null  object \n",
      " 7   EmployeeCount             23431 non-null  object \n",
      " 8   EmployeeNumber            23435 non-null  object \n",
      " 9   Application ID            23433 non-null  object \n",
      " 10  EnvironmentSatisfaction   23427 non-null  float64\n",
      " 11  Gender                    23426 non-null  object \n",
      " 12  HourlyRate                23427 non-null  object \n",
      " 13  JobInvolvement            23427 non-null  float64\n",
      " 14  JobLevel                  23429 non-null  float64\n",
      " 15  JobRole                   23427 non-null  object \n",
      " 16  JobSatisfaction           23427 non-null  object \n",
      " 17  MaritalStatus             23425 non-null  object \n",
      " 18  MonthlyIncome             23423 non-null  object \n",
      " 19  MonthlyRate               23425 non-null  float64\n",
      " 20  NumCompaniesWorked        23427 non-null  float64\n",
      " 21  Over18                    23426 non-null  object \n",
      " 22  OverTime                  23424 non-null  object \n",
      " 23  PercentSalaryHike         23422 non-null  object \n",
      " 24  PerformanceRating         23426 non-null  float64\n",
      " 25  RelationshipSatisfaction  23428 non-null  float64\n",
      " 26  StandardHours             23426 non-null  float64\n",
      " 27  StockOptionLevel          23427 non-null  float64\n",
      " 28  TotalWorkingYears         23428 non-null  float64\n",
      " 29  TrainingTimesLastYear     23425 non-null  float64\n",
      " 30  WorkLifeBalance           23426 non-null  float64\n",
      " 31  YearsAtCompany            23423 non-null  float64\n",
      " 32  YearsInCurrentRole        23421 non-null  float64\n",
      " 33  YearsSinceLastPromotion   23425 non-null  float64\n",
      " 34  YearsWithCurrManager      23429 non-null  float64\n",
      " 35  Employee Source           23424 non-null  object \n",
      " 36  attrition                 23423 non-null  object \n",
      "dtypes: float64(19), object(18)\n",
      "memory usage: 6.6+ MB\n"
     ]
    }
   ],
   "source": [
    "data.info()"
   ]
  },
  {
   "cell_type": "markdown",
   "id": "b51be2e8",
   "metadata": {},
   "source": [
    "There are 26 variables which are integersand float datatypes(some of the categorical variables are represented in integer format) and 9 variables that are of string datatype."
   ]
  },
  {
   "cell_type": "code",
   "execution_count": 12,
   "id": "c5b91013",
   "metadata": {},
   "outputs": [
    {
     "data": {
      "text/html": [
       "<div>\n",
       "<style scoped>\n",
       "    .dataframe tbody tr th:only-of-type {\n",
       "        vertical-align: middle;\n",
       "    }\n",
       "\n",
       "    .dataframe tbody tr th {\n",
       "        vertical-align: top;\n",
       "    }\n",
       "\n",
       "    .dataframe thead th {\n",
       "        text-align: right;\n",
       "    }\n",
       "</style>\n",
       "<table border=\"1\" class=\"dataframe\">\n",
       "  <thead>\n",
       "    <tr style=\"text-align: right;\">\n",
       "      <th></th>\n",
       "      <th>Age</th>\n",
       "      <th>DailyRate</th>\n",
       "      <th>Education</th>\n",
       "      <th>EnvironmentSatisfaction</th>\n",
       "      <th>JobInvolvement</th>\n",
       "      <th>JobLevel</th>\n",
       "      <th>MonthlyRate</th>\n",
       "      <th>NumCompaniesWorked</th>\n",
       "      <th>PerformanceRating</th>\n",
       "      <th>RelationshipSatisfaction</th>\n",
       "      <th>StandardHours</th>\n",
       "      <th>StockOptionLevel</th>\n",
       "      <th>TotalWorkingYears</th>\n",
       "      <th>TrainingTimesLastYear</th>\n",
       "      <th>WorkLifeBalance</th>\n",
       "      <th>YearsAtCompany</th>\n",
       "      <th>YearsInCurrentRole</th>\n",
       "      <th>YearsSinceLastPromotion</th>\n",
       "      <th>YearsWithCurrManager</th>\n",
       "    </tr>\n",
       "  </thead>\n",
       "  <tbody>\n",
       "    <tr>\n",
       "      <th>count</th>\n",
       "      <td>23433.000000</td>\n",
       "      <td>23424.000000</td>\n",
       "      <td>23424.000000</td>\n",
       "      <td>23427.000000</td>\n",
       "      <td>23427.000000</td>\n",
       "      <td>23429.000000</td>\n",
       "      <td>23425.000000</td>\n",
       "      <td>23427.000000</td>\n",
       "      <td>23426.000000</td>\n",
       "      <td>23428.000000</td>\n",
       "      <td>23426.000000</td>\n",
       "      <td>23427.000000</td>\n",
       "      <td>23428.00000</td>\n",
       "      <td>23425.000000</td>\n",
       "      <td>23426.000000</td>\n",
       "      <td>23423.000000</td>\n",
       "      <td>23421.000000</td>\n",
       "      <td>23425.000000</td>\n",
       "      <td>23429.000000</td>\n",
       "    </tr>\n",
       "    <tr>\n",
       "      <th>mean</th>\n",
       "      <td>36.936671</td>\n",
       "      <td>801.828765</td>\n",
       "      <td>2.910050</td>\n",
       "      <td>13.681777</td>\n",
       "      <td>2.733811</td>\n",
       "      <td>2.064023</td>\n",
       "      <td>14304.343821</td>\n",
       "      <td>3.887779</td>\n",
       "      <td>3.155852</td>\n",
       "      <td>2.713334</td>\n",
       "      <td>79.993469</td>\n",
       "      <td>0.799846</td>\n",
       "      <td>11.25922</td>\n",
       "      <td>2.800171</td>\n",
       "      <td>2.761803</td>\n",
       "      <td>7.010887</td>\n",
       "      <td>4.227445</td>\n",
       "      <td>2.183821</td>\n",
       "      <td>4.127577</td>\n",
       "    </tr>\n",
       "    <tr>\n",
       "      <th>std</th>\n",
       "      <td>9.137432</td>\n",
       "      <td>403.206166</td>\n",
       "      <td>1.024931</td>\n",
       "      <td>1186.544372</td>\n",
       "      <td>0.836860</td>\n",
       "      <td>1.105421</td>\n",
       "      <td>7102.636293</td>\n",
       "      <td>155.332904</td>\n",
       "      <td>0.371215</td>\n",
       "      <td>1.080030</td>\n",
       "      <td>0.706850</td>\n",
       "      <td>1.122454</td>\n",
       "      <td>7.77237</td>\n",
       "      <td>1.308527</td>\n",
       "      <td>0.705788</td>\n",
       "      <td>6.138394</td>\n",
       "      <td>3.627284</td>\n",
       "      <td>3.218615</td>\n",
       "      <td>3.572379</td>\n",
       "    </tr>\n",
       "    <tr>\n",
       "      <th>min</th>\n",
       "      <td>18.000000</td>\n",
       "      <td>102.000000</td>\n",
       "      <td>1.000000</td>\n",
       "      <td>1.000000</td>\n",
       "      <td>1.000000</td>\n",
       "      <td>1.000000</td>\n",
       "      <td>2094.000000</td>\n",
       "      <td>0.000000</td>\n",
       "      <td>3.000000</td>\n",
       "      <td>1.000000</td>\n",
       "      <td>3.000000</td>\n",
       "      <td>0.000000</td>\n",
       "      <td>0.00000</td>\n",
       "      <td>0.000000</td>\n",
       "      <td>1.000000</td>\n",
       "      <td>0.000000</td>\n",
       "      <td>0.000000</td>\n",
       "      <td>0.000000</td>\n",
       "      <td>0.000000</td>\n",
       "    </tr>\n",
       "    <tr>\n",
       "      <th>25%</th>\n",
       "      <td>30.000000</td>\n",
       "      <td>465.000000</td>\n",
       "      <td>2.000000</td>\n",
       "      <td>2.000000</td>\n",
       "      <td>2.000000</td>\n",
       "      <td>1.000000</td>\n",
       "      <td>8053.000000</td>\n",
       "      <td>1.000000</td>\n",
       "      <td>3.000000</td>\n",
       "      <td>2.000000</td>\n",
       "      <td>80.000000</td>\n",
       "      <td>0.000000</td>\n",
       "      <td>6.00000</td>\n",
       "      <td>2.000000</td>\n",
       "      <td>2.000000</td>\n",
       "      <td>3.000000</td>\n",
       "      <td>2.000000</td>\n",
       "      <td>0.000000</td>\n",
       "      <td>2.000000</td>\n",
       "    </tr>\n",
       "    <tr>\n",
       "      <th>50%</th>\n",
       "      <td>36.000000</td>\n",
       "      <td>802.000000</td>\n",
       "      <td>3.000000</td>\n",
       "      <td>3.000000</td>\n",
       "      <td>3.000000</td>\n",
       "      <td>2.000000</td>\n",
       "      <td>14222.000000</td>\n",
       "      <td>2.000000</td>\n",
       "      <td>3.000000</td>\n",
       "      <td>3.000000</td>\n",
       "      <td>80.000000</td>\n",
       "      <td>1.000000</td>\n",
       "      <td>10.00000</td>\n",
       "      <td>3.000000</td>\n",
       "      <td>3.000000</td>\n",
       "      <td>5.000000</td>\n",
       "      <td>3.000000</td>\n",
       "      <td>1.000000</td>\n",
       "      <td>3.000000</td>\n",
       "    </tr>\n",
       "    <tr>\n",
       "      <th>75%</th>\n",
       "      <td>43.000000</td>\n",
       "      <td>1157.000000</td>\n",
       "      <td>4.000000</td>\n",
       "      <td>4.000000</td>\n",
       "      <td>3.000000</td>\n",
       "      <td>3.000000</td>\n",
       "      <td>20460.000000</td>\n",
       "      <td>4.000000</td>\n",
       "      <td>3.000000</td>\n",
       "      <td>4.000000</td>\n",
       "      <td>80.000000</td>\n",
       "      <td>1.000000</td>\n",
       "      <td>15.00000</td>\n",
       "      <td>3.000000</td>\n",
       "      <td>3.000000</td>\n",
       "      <td>10.000000</td>\n",
       "      <td>7.000000</td>\n",
       "      <td>3.000000</td>\n",
       "      <td>7.000000</td>\n",
       "    </tr>\n",
       "    <tr>\n",
       "      <th>max</th>\n",
       "      <td>60.000000</td>\n",
       "      <td>1499.000000</td>\n",
       "      <td>6.000000</td>\n",
       "      <td>129588.000000</td>\n",
       "      <td>54.000000</td>\n",
       "      <td>5.000000</td>\n",
       "      <td>26999.000000</td>\n",
       "      <td>23258.000000</td>\n",
       "      <td>13.000000</td>\n",
       "      <td>4.000000</td>\n",
       "      <td>80.000000</td>\n",
       "      <td>80.000000</td>\n",
       "      <td>40.00000</td>\n",
       "      <td>30.000000</td>\n",
       "      <td>4.000000</td>\n",
       "      <td>40.000000</td>\n",
       "      <td>22.000000</td>\n",
       "      <td>17.000000</td>\n",
       "      <td>17.000000</td>\n",
       "    </tr>\n",
       "  </tbody>\n",
       "</table>\n",
       "</div>"
      ],
      "text/plain": [
       "                Age     DailyRate     Education  EnvironmentSatisfaction  \\\n",
       "count  23433.000000  23424.000000  23424.000000             23427.000000   \n",
       "mean      36.936671    801.828765      2.910050                13.681777   \n",
       "std        9.137432    403.206166      1.024931              1186.544372   \n",
       "min       18.000000    102.000000      1.000000                 1.000000   \n",
       "25%       30.000000    465.000000      2.000000                 2.000000   \n",
       "50%       36.000000    802.000000      3.000000                 3.000000   \n",
       "75%       43.000000   1157.000000      4.000000                 4.000000   \n",
       "max       60.000000   1499.000000      6.000000            129588.000000   \n",
       "\n",
       "       JobInvolvement      JobLevel   MonthlyRate  NumCompaniesWorked  \\\n",
       "count    23427.000000  23429.000000  23425.000000        23427.000000   \n",
       "mean         2.733811      2.064023  14304.343821            3.887779   \n",
       "std          0.836860      1.105421   7102.636293          155.332904   \n",
       "min          1.000000      1.000000   2094.000000            0.000000   \n",
       "25%          2.000000      1.000000   8053.000000            1.000000   \n",
       "50%          3.000000      2.000000  14222.000000            2.000000   \n",
       "75%          3.000000      3.000000  20460.000000            4.000000   \n",
       "max         54.000000      5.000000  26999.000000        23258.000000   \n",
       "\n",
       "       PerformanceRating  RelationshipSatisfaction  StandardHours  \\\n",
       "count       23426.000000              23428.000000   23426.000000   \n",
       "mean            3.155852                  2.713334      79.993469   \n",
       "std             0.371215                  1.080030       0.706850   \n",
       "min             3.000000                  1.000000       3.000000   \n",
       "25%             3.000000                  2.000000      80.000000   \n",
       "50%             3.000000                  3.000000      80.000000   \n",
       "75%             3.000000                  4.000000      80.000000   \n",
       "max            13.000000                  4.000000      80.000000   \n",
       "\n",
       "       StockOptionLevel  TotalWorkingYears  TrainingTimesLastYear  \\\n",
       "count      23427.000000        23428.00000           23425.000000   \n",
       "mean           0.799846           11.25922               2.800171   \n",
       "std            1.122454            7.77237               1.308527   \n",
       "min            0.000000            0.00000               0.000000   \n",
       "25%            0.000000            6.00000               2.000000   \n",
       "50%            1.000000           10.00000               3.000000   \n",
       "75%            1.000000           15.00000               3.000000   \n",
       "max           80.000000           40.00000              30.000000   \n",
       "\n",
       "       WorkLifeBalance  YearsAtCompany  YearsInCurrentRole  \\\n",
       "count     23426.000000    23423.000000        23421.000000   \n",
       "mean          2.761803        7.010887            4.227445   \n",
       "std           0.705788        6.138394            3.627284   \n",
       "min           1.000000        0.000000            0.000000   \n",
       "25%           2.000000        3.000000            2.000000   \n",
       "50%           3.000000        5.000000            3.000000   \n",
       "75%           3.000000       10.000000            7.000000   \n",
       "max           4.000000       40.000000           22.000000   \n",
       "\n",
       "       YearsSinceLastPromotion  YearsWithCurrManager  \n",
       "count             23425.000000          23429.000000  \n",
       "mean                  2.183821              4.127577  \n",
       "std                   3.218615              3.572379  \n",
       "min                   0.000000              0.000000  \n",
       "25%                   0.000000              2.000000  \n",
       "50%                   1.000000              3.000000  \n",
       "75%                   3.000000              7.000000  \n",
       "max                  17.000000             17.000000  "
      ]
     },
     "execution_count": 12,
     "metadata": {},
     "output_type": "execute_result"
    }
   ],
   "source": [
    "data.describe()"
   ]
  },
  {
   "cell_type": "code",
   "execution_count": 13,
   "id": "9266db7f",
   "metadata": {},
   "outputs": [
    {
     "data": {
      "text/plain": [
       "Age                          3\n",
       "BusinessTravel               8\n",
       "DailyRate                   12\n",
       "Department                  11\n",
       "DistanceFromHome             9\n",
       "Education                   12\n",
       "EducationField               9\n",
       "EmployeeCount                5\n",
       "EmployeeNumber               1\n",
       "Application ID               3\n",
       "EnvironmentSatisfaction      9\n",
       "Gender                      10\n",
       "HourlyRate                   9\n",
       "JobInvolvement               9\n",
       "JobLevel                     7\n",
       "JobRole                      9\n",
       "JobSatisfaction              9\n",
       "MaritalStatus               11\n",
       "MonthlyIncome               13\n",
       "MonthlyRate                 11\n",
       "NumCompaniesWorked           9\n",
       "Over18                      10\n",
       "OverTime                    12\n",
       "PercentSalaryHike           14\n",
       "PerformanceRating           10\n",
       "RelationshipSatisfaction     8\n",
       "StandardHours               10\n",
       "StockOptionLevel             9\n",
       "TotalWorkingYears            8\n",
       "TrainingTimesLastYear       11\n",
       "WorkLifeBalance             10\n",
       "YearsAtCompany              13\n",
       "YearsInCurrentRole          15\n",
       "YearsSinceLastPromotion     11\n",
       "YearsWithCurrManager         7\n",
       "Employee Source             12\n",
       "attrition                   13\n",
       "dtype: int64"
      ]
     },
     "execution_count": 13,
     "metadata": {},
     "output_type": "execute_result"
    }
   ],
   "source": [
    "data.isna().sum()"
   ]
  },
  {
   "cell_type": "code",
   "execution_count": 14,
   "id": "9aa300e0",
   "metadata": {},
   "outputs": [
    {
     "data": {
      "image/png": "[encoded data removed]",
      "text/plain": [
       "<Figure size 4320x1440 with 1 Axes>"
      ]
     },
     "metadata": {
      "needs_background": "light"
     },
     "output_type": "display_data"
    }
   ],
   "source": [
    "data.boxplot(figsize=(60,20))\n",
    "plt.show()"
   ]
  },
  {
   "cell_type": "markdown",
   "id": "f3611957",
   "metadata": {},
   "source": [
    "# Univariate analysis of IBM Employee Attrition Data"
   ]
  },
  {
   "cell_type": "markdown",
   "id": "b7d9c0f2",
   "metadata": {},
   "source": [
    "Attrition percentage"
   ]
  },
  {
   "cell_type": "code",
   "execution_count": 19,
   "id": "672a6e03",
   "metadata": {},
   "outputs": [
    {
     "ename": "TypeError",
     "evalue": "unsupported operand type(s) for /: 'list' and 'int'",
     "output_type": "error",
     "traceback": [
      "\u001b[1;31m---------------------------------------------------------------------------\u001b[0m",
      "\u001b[1;31mTypeError\u001b[0m                                 Traceback (most recent call last)",
      "\u001b[1;32m~\\AppData\\Local\\Temp\\ipykernel_15092\\640363616.py\u001b[0m in \u001b[0;36m<module>\u001b[1;34m\u001b[0m\n\u001b[0;32m      1\u001b[0m print(\"{:.2f}% of the employees resigned/retired\"\n\u001b[1;32m----> 2\u001b[1;33m .format(data[\"attrition\"].value_counts([\"Yes\"]/len(data[\"attrition\"])*100)))\n\u001b[0m\u001b[0;32m      3\u001b[0m \u001b[0msns\u001b[0m\u001b[1;33m.\u001b[0m\u001b[0mdisplot\u001b[0m\u001b[1;33m(\u001b[0m\u001b[0mdata\u001b[0m \u001b[1;33m=\u001b[0m \u001b[0mdata\u001b[0m\u001b[1;33m,\u001b[0m \u001b[0mx\u001b[0m \u001b[1;33m=\u001b[0m \u001b[1;34m\"attrition\"\u001b[0m\u001b[1;33m)\u001b[0m\u001b[1;33m\u001b[0m\u001b[1;33m\u001b[0m\u001b[0m\n",
      "\u001b[1;31mTypeError\u001b[0m: unsupported operand type(s) for /: 'list' and 'int'"
     ]
    }
   ],
   "source": [
    "\n",
    "\n",
    "\n",
    "print(\"{:.2f}% of the employees resigned/retired\"\n",
    ".format(data[\"attrition\"].value_counts([\"Yes\"]/len(data[\"attrition\"])*100)))\n",
    "sns.displot(data = data, x = \"attrition\")\n"
   ]
  },
  {
   "cell_type": "markdown",
   "id": "deb84662",
   "metadata": {},
   "source": [
    "Gender"
   ]
  },
  {
   "cell_type": "code",
   "execution_count": 20,
   "id": "61c8c397",
   "metadata": {},
   "outputs": [
    {
     "name": "stdout",
     "output_type": "stream",
     "text": [
      "Gender  attrition            \n",
      "1       Current employee             1\n",
      "2       Current employee             1\n",
      "Female  Current employee          7925\n",
      "        Voluntary Resignation     1438\n",
      "Male    Current employee         11778\n",
      "        Voluntary Resignation     2271\n",
      "Name: attrition, dtype: int64\n"
     ]
    },
    {
     "data": {
      "text/plain": [
       "<seaborn.axisgrid.FacetGrid at 0x29eb1543430>"
      ]
     },
     "execution_count": 20,
     "metadata": {},
     "output_type": "execute_result"
    },
    {
     "data": {
      "image/png": "[encoded data removed]",
      "text/plain": [
       "<Figure size 505.5x360 with 1 Axes>"
      ]
     },
     "metadata": {
      "needs_background": "light"
     },
     "output_type": "display_data"
    }
   ],
   "source": [
    "groupby_Gender = data.groupby(\"Gender\")[\"attrition\"]\n",
    "print(groupby_Gender.value_counts())\n",
    "sns.displot(data = data, x = \"Gender\", hue = \"attrition\")\n"
   ]
  },
  {
   "cell_type": "markdown",
   "id": "34074f11",
   "metadata": {},
   "source": [
    "Business Travel"
   ]
  },
  {
   "cell_type": "code",
   "execution_count": 21,
   "id": "14105607",
   "metadata": {},
   "outputs": [
    {
     "name": "stdout",
     "output_type": "stream",
     "text": [
      "attrition              BusinessTravel   \n",
      "Current employee       Travel_Rarely        14183\n",
      "                       Travel_Frequently     3322\n",
      "                       Non-Travel            2203\n",
      "Voluntary Resignation  Travel_Rarely         2427\n",
      "                       Travel_Frequently     1089\n",
      "                       Non-Travel             191\n",
      "Name: BusinessTravel, dtype: int64\n"
     ]
    },
    {
     "data": {
      "text/plain": [
       "<seaborn.axisgrid.FacetGrid at 0x29eb8d1cfa0>"
      ]
     },
     "execution_count": 21,
     "metadata": {},
     "output_type": "execute_result"
    },
    {
     "data": {
      "image/png": "[encoded data removed]",
      "text/plain": [
       "<Figure size 505.5x360 with 1 Axes>"
      ]
     },
     "metadata": {
      "needs_background": "light"
     },
     "output_type": "display_data"
    }
   ],
   "source": [
    "groupby_BusinessTravel = data.groupby(\"attrition\")[\"BusinessTravel\"]\n",
    "print(groupby_BusinessTravel.value_counts())\n",
    "sns.displot(data = data, x = \"BusinessTravel\", hue = \"attrition\")"
   ]
  },
  {
   "cell_type": "markdown",
   "id": "c43c7a54",
   "metadata": {},
   "source": [
    "Age"
   ]
  },
  {
   "cell_type": "code",
   "execution_count": 23,
   "id": "c4eb4c54",
   "metadata": {},
   "outputs": [
    {
     "data": {
      "text/plain": [
       "<AxesSubplot:xlabel='Age', ylabel='Count'>"
      ]
     },
     "execution_count": 23,
     "metadata": {},
     "output_type": "execute_result"
    },
    {
     "data": {
      "image/png": "[encoded data removed]",
      "text/plain": [
       "<Figure size 432x288 with 1 Axes>"
      ]
     },
     "metadata": {
      "needs_background": "light"
     },
     "output_type": "display_data"
    }
   ],
   "source": [
    "groupby_BusinessTravel = data.groupby(\"attrition\")[\"BusinessTravel\"]\n",
    "print(groupby_BusinessTravel.value_counts())\n",
    "plt.figure()\n",
    "sns.histplot(data = data, x = \"Age\", bins = 7)"
   ]
  },
  {
   "cell_type": "markdown",
   "id": "b73bdc65",
   "metadata": {},
   "source": [
    "Minimum and Maximum age of the workforce is 18 and 60 years respectively."
   ]
  },
  {
   "cell_type": "code",
   "execution_count": 24,
   "id": "c1d54311",
   "metadata": {},
   "outputs": [
    {
     "data": {
      "text/plain": [
       "<AxesSubplot:xlabel='Age', ylabel='Count'>"
      ]
     },
     "execution_count": 24,
     "metadata": {},
     "output_type": "execute_result"
    },
    {
     "data": {
      "image/png": "[encoded data removed]",
      "text/plain": [
       "<Figure size 432x288 with 1 Axes>"
      ]
     },
     "metadata": {
      "needs_background": "light"
     },
     "output_type": "display_data"
    },
    {
     "data": {
      "image/png": "[encoded data removed]",
      "text/plain": [
       "<Figure size 432x288 with 1 Axes>"
      ]
     },
     "metadata": {
      "needs_background": "light"
     },
     "output_type": "display_data"
    }
   ],
   "source": [
    "plt.figure()\n",
    "sns.histplot(data = data, x = \"Age\", bins = 3, hue = \"attrition\")\n",
    "plt.figure()\n",
    "sns.histplot(data = data, x = \"Age\", bins = 7, hue = \"attrition\")\n"
   ]
  },
  {
   "cell_type": "markdown",
   "id": "3e0193f5",
   "metadata": {},
   "source": [
    "Education"
   ]
  },
  {
   "cell_type": "code",
   "execution_count": 25,
   "id": "b81f326b",
   "metadata": {},
   "outputs": [
    {
     "name": "stdout",
     "output_type": "stream",
     "text": [
      "attrition              Education\n",
      "Current employee       3.0          7563\n",
      "                       4.0          5414\n",
      "                       2.0          3818\n",
      "                       1.0          2221\n",
      "                       5.0           686\n",
      "                       6.0             1\n",
      "Voluntary Resignation  3.0          1530\n",
      "                       4.0           901\n",
      "                       2.0           698\n",
      "                       1.0           500\n",
      "                       5.0            79\n",
      "Name: Education, dtype: int64\n"
     ]
    },
    {
     "data": {
      "text/plain": [
       "<seaborn.axisgrid.FacetGrid at 0x29eb8f99b80>"
      ]
     },
     "execution_count": 25,
     "metadata": {},
     "output_type": "execute_result"
    },
    {
     "data": {
      "image/png": "[encoded data removed]",
      "text/plain": [
       "<Figure size 505.5x360 with 1 Axes>"
      ]
     },
     "metadata": {
      "needs_background": "light"
     },
     "output_type": "display_data"
    }
   ],
   "source": [
    "groupby_Education= data.groupby(\"attrition\")[\"Education\"]\n",
    "print(groupby_Education.value_counts())\n",
    "sns.displot(data = data, x = \"Education\", hue = \"attrition\")"
   ]
  },
  {
   "cell_type": "code",
   "execution_count": 27,
   "id": "fd6cbba2",
   "metadata": {},
   "outputs": [
    {
     "data": {
      "text/plain": [
       "<seaborn.axisgrid.FacetGrid at 0x29eb912ae80>"
      ]
     },
     "execution_count": 27,
     "metadata": {},
     "output_type": "execute_result"
    },
    {
     "data": {
      "image/png": "[encoded data removed]",
      "text/plain": [
       "<Figure size 1585.5x360 with 4 Axes>"
      ]
     },
     "metadata": {
      "needs_background": "light"
     },
     "output_type": "display_data"
    }
   ],
   "source": [
    "sns.displot(data = data, x = \"Education\", hue = \"attrition\", col = \"Gender\")"
   ]
  },
  {
   "cell_type": "markdown",
   "id": "777bfdb7",
   "metadata": {},
   "source": [
    "When Education is combined with Gender, we get the above distribution plot."
   ]
  },
  {
   "cell_type": "markdown",
   "id": "58945e6c",
   "metadata": {},
   "source": [
    "Daily Rate"
   ]
  },
  {
   "cell_type": "code",
   "execution_count": 38,
   "id": "92727f0a",
   "metadata": {},
   "outputs": [
    {
     "name": "stdout",
     "output_type": "stream",
     "text": [
      "Maximum DailyRate of employee :  1499.0\n",
      "Minimum DailyRate of employee  :  102.0\n",
      "attrition              DailyRate\n",
      "Current employee       691.0        99\n",
      "                       1082.0       79\n",
      "                       117.0        64\n",
      "                       329.0        64\n",
      "                       589.0        64\n",
      "                                    ..\n",
      "Voluntary Resignation  790.0        15\n",
      "                       903.0        15\n",
      "                       1277.0       15\n",
      "                       1448.0       15\n",
      "                       1122.0       14\n",
      "Name: DailyRate, Length: 1016, dtype: int64\n"
     ]
    },
    {
     "data": {
      "text/plain": [
       "<AxesSubplot:xlabel='DailyRate', ylabel='Count'>"
      ]
     },
     "execution_count": 38,
     "metadata": {},
     "output_type": "execute_result"
    },
    {
     "data": {
      "image/png": "[encoded data removed]",
      "text/plain": [
       "<Figure size 432x288 with 1 Axes>"
      ]
     },
     "metadata": {
      "needs_background": "light"
     },
     "output_type": "display_data"
    }
   ],
   "source": [
    "print(\"Maximum DailyRate of employee : \",max(data[\"DailyRate\"]))\n",
    "print(\"Minimum DailyRate of employee  : \",min(data[\"DailyRate\"])) \n",
    "\n",
    "groupby_DailyRate= data.groupby(\"attrition\")[\"DailyRate\"]\n",
    "print(groupby_DailyRate.value_counts())\n",
    "plt.figure()\n",
    "sns.histplot(data = data, x = \"DailyRate\", hue = \"attrition\", bins = 7)\n"
   ]
  },
  {
   "cell_type": "markdown",
   "id": "36ca245c",
   "metadata": {},
   "source": [
    "Department"
   ]
  },
  {
   "cell_type": "code",
   "execution_count": 46,
   "id": "6f0111bb",
   "metadata": {},
   "outputs": [
    {
     "name": "stdout",
     "output_type": "stream",
     "text": [
      "attrition              Department            \n",
      "Current employee       Research & Development    13212\n",
      "                       Sales                      5669\n",
      "                       Human Resources             824\n",
      "                       1296                          1\n",
      "Voluntary Resignation  Research & Development     2063\n",
      "                       Sales                      1448\n",
      "                       Human Resources             195\n",
      "Name: Department, dtype: int64\n"
     ]
    },
    {
     "data": {
      "text/plain": [
       "<seaborn.axisgrid.FacetGrid at 0x29eb8b523d0>"
      ]
     },
     "execution_count": 46,
     "metadata": {},
     "output_type": "execute_result"
    },
    {
     "data": {
      "image/png": "[encoded data removed]",
      "text/plain": [
       "<Figure size 793.5x648 with 1 Axes>"
      ]
     },
     "metadata": {
      "needs_background": "light"
     },
     "output_type": "display_data"
    }
   ],
   "source": [
    "groupby_Department= data.groupby(\"attrition\")[\"Department\"]\n",
    "print(groupby_Department.value_counts())\n",
    "sns.displot(data = data, x = \"Department\", hue = \"attrition\",height=9)"
   ]
  },
  {
   "cell_type": "markdown",
   "id": "bf954e32",
   "metadata": {},
   "source": [
    "Education Field"
   ]
  },
  {
   "cell_type": "code",
   "execution_count": 48,
   "id": "4c052279",
   "metadata": {},
   "outputs": [
    {
     "name": "stdout",
     "output_type": "stream",
     "text": [
      "attrition              Department            \n",
      "Current employee       Research & Development    13212\n",
      "                       Sales                      5669\n",
      "                       Human Resources             824\n",
      "                       1296                          1\n",
      "Voluntary Resignation  Research & Development     2063\n",
      "                       Sales                      1448\n",
      "                       Human Resources             195\n",
      "Name: Department, dtype: int64\n"
     ]
    },
    {
     "data": {
      "text/plain": [
       "<seaborn.axisgrid.FacetGrid at 0x29ebd9a1dc0>"
      ]
     },
     "execution_count": 48,
     "metadata": {},
     "output_type": "execute_result"
    },
    {
     "data": {
      "image/png": "[encoded data removed]",
      "text/plain": [
       "<Figure size 865.5x720 with 1 Axes>"
      ]
     },
     "metadata": {
      "needs_background": "light"
     },
     "output_type": "display_data"
    }
   ],
   "source": [
    "groupby_EducationField= data.groupby(\"attrition\")[\"EducationField\"]\n",
    "print(groupby_EducationField.value_counts())\n",
    "sns.displot(data = data, x = \"EducationField\", hue = \"attrition\", height = 10)"
   ]
  },
  {
   "cell_type": "markdown",
   "id": "ab224331",
   "metadata": {},
   "source": [
    "Environment Satisfaction"
   ]
  },
  {
   "cell_type": "code",
   "execution_count": null,
   "id": "a83c803e",
   "metadata": {},
   "outputs": [],
   "source": [
    "groupby_EnvironmentSatisfaction= data.groupby(\"attrition\")[\"EnvironmentSatisfaction\"]\n",
    "print(groupby_EnvironmentSatisfaction.value_counts())\n",
    "sns.displot(data = data, x = \"EnvironmentSatisfaction\", hue = \"attrition\")"
   ]
  },
  {
   "cell_type": "markdown",
   "id": "e82f816b",
   "metadata": {},
   "source": [
    "Job Involvement"
   ]
  },
  {
   "cell_type": "code",
   "execution_count": null,
   "id": "93ecce7e",
   "metadata": {},
   "outputs": [],
   "source": [
    "groupby_JobInvolvement= data.groupby(\"attrition\")[\"JobInvolvement\"]\n",
    "print(groupby_JobInvolvement.value_counts())\n",
    "sns.displot(data = data, x = \"JobInvolvement\", hue = \"attrition\")"
   ]
  },
  {
   "cell_type": "markdown",
   "id": "8940f4e8",
   "metadata": {},
   "source": [
    "Job Satisfaction"
   ]
  },
  {
   "cell_type": "code",
   "execution_count": null,
   "id": "c3fa82ed",
   "metadata": {},
   "outputs": [],
   "source": [
    "groupby_JobSatisfaction= data.groupby(\"attrition\")[\"JobSatisfaction\"]\n",
    "print(groupby_JobSatisfaction.value_counts())\n",
    "sns.displot(data = data, x = \"JobSatisfaction\", hue = \"attrition\")"
   ]
  },
  {
   "cell_type": "markdown",
   "id": "d50ac2a4",
   "metadata": {},
   "source": [
    "Work Life Balance"
   ]
  },
  {
   "cell_type": "code",
   "execution_count": null,
   "id": "dc79782a",
   "metadata": {},
   "outputs": [],
   "source": [
    "groupby_WorkLifeBalance= data.groupby(\"attrition\")[\"WorkLifeBalance\"]\n",
    "print(groupby_Work Life Balance.value_counts())\n",
    "sns.displot(data = data, x = \"Work Life Balance\", hue = \"attrition\")"
   ]
  },
  {
   "cell_type": "markdown",
   "id": "0dc9f4c8",
   "metadata": {},
   "source": [
    "Job Role"
   ]
  },
  {
   "cell_type": "code",
   "execution_count": null,
   "id": "e8c9eec0",
   "metadata": {},
   "outputs": [],
   "source": [
    "groupby_JobRole= data.groupby(\"attrition\")[\"JobRole\"]\n",
    "print(groupby_JobRole.value_counts())\n",
    "sns.displot(data = data, x = \"JobRole\", hue = \"attrition\")"
   ]
  },
  {
   "cell_type": "markdown",
   "id": "849a48c6",
   "metadata": {},
   "source": [
    "Marital Status"
   ]
  },
  {
   "cell_type": "code",
   "execution_count": null,
   "id": "caaf6dc6",
   "metadata": {},
   "outputs": [],
   "source": [
    "groupby_MaritalStatus= data.groupby(\"attrition\")[\"MaritalStatus\"]\n",
    "print(groupby_MaritalStatus.value_counts())\n",
    "sns.displot(data = data, x = \"MaritalStatus\", hue = \"attrition\")"
   ]
  },
  {
   "cell_type": "markdown",
   "id": "d25eeb22",
   "metadata": {},
   "source": [
    "Over Time"
   ]
  },
  {
   "cell_type": "code",
   "execution_count": null,
   "id": "080b2824",
   "metadata": {},
   "outputs": [],
   "source": [
    "groupby_OverTime= data.groupby(\"attrition\")[\"OverTime\"]\n",
    "print(groupby_OverTime.value_counts())\n",
    "sns.displot(data = data, x = \"OverTime\", hue = \"attrition\")"
   ]
  },
  {
   "cell_type": "markdown",
   "id": "fc605e6e",
   "metadata": {},
   "source": [
    "Percent Salary Hike"
   ]
  },
  {
   "cell_type": "code",
   "execution_count": null,
   "id": "638da209",
   "metadata": {},
   "outputs": [],
   "source": [
    "groupby_PercentSalaryHike= data.groupby(\"attrition\")[\"PercentSalaryHike\"]\n",
    "print(groupby_PercentSalaryHike.value_counts())\n",
    "sns.displot(data = data, x = \"PercentSalaryHike\", hue = \"attrition\")"
   ]
  },
  {
   "cell_type": "code",
   "execution_count": null,
   "id": "64d4a3a2",
   "metadata": {},
   "outputs": [],
   "source": [
    "Performance Rating"
   ]
  },
  {
   "cell_type": "code",
   "execution_count": null,
   "id": "5c2adfec",
   "metadata": {},
   "outputs": [],
   "source": [
    "groupby_Performance Rating= data.groupby(\"attrition\")[\"PerformanceRating\"]\n",
    "print(groupby_Performance Rating.value_counts())\n",
    "sns.displot(data = data, x = \"PerformanceRating\", hue = \"attrition\")"
   ]
  },
  {
   "cell_type": "markdown",
   "id": "c94573c7",
   "metadata": {},
   "source": [
    "Stock Option Level"
   ]
  },
  {
   "cell_type": "code",
   "execution_count": null,
   "id": "6adcca26",
   "metadata": {},
   "outputs": [],
   "source": [
    "groupby_groupby_StockOptionLevel = data.groupby(\"attrition\")[\"StockOptionLevel\"]\n",
    "print(groupby_StockOptionLevel.value_counts())\n",
    "sns.displot(data = data, x = \"StockOptionLevel\", hue = \"attrition\")"
   ]
  }
 ],
 "metadata": {
  "kernelspec": {
   "display_name": "Python 3 (ipykernel)",
   "language": "python",
   "name": "python3"
  },
  "language_info": {
   "codemirror_mode": {
    "name": "ipython",
    "version": 3
   },
   "file_extension": ".py",
   "mimetype": "text/x-python",
   "name": "python",
   "nbconvert_exporter": "python",
   "pygments_lexer": "ipython3",
   "version": "3.9.12"
  }
 },
 "nbformat": 4,
 "nbformat_minor": 5
}
